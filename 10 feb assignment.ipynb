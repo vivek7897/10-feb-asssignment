{
 "cells": [
  {
   "cell_type": "code",
   "execution_count": null,
   "id": "387c2790-ae12-4661-bd26-af59306d7b55",
   "metadata": {},
   "outputs": [],
   "source": [
    "Q1. Which function is used to open a file? What are the different modes of opening a file? Explain each mode\n",
    "of file opening."
   ]
  },
  {
   "cell_type": "code",
   "execution_count": null,
   "id": "d8ca8a12-2c50-405b-a20f-fb657b72987a",
   "metadata": {},
   "outputs": [],
   "source": [
    "the open() function is used to open a file. It takes two arguments, the first being the file name or path,\n",
    "and the second being the mode in which to open the file."
   ]
  },
  {
   "cell_type": "code",
   "execution_count": null,
   "id": "ae40de9d-a2b2-47bc-8ae1-b1d5764f7931",
   "metadata": {},
   "outputs": [],
   "source": [
    "file = open(\"filename.txt\", \"mode\")\n"
   ]
  },
  {
   "cell_type": "code",
   "execution_count": null,
   "id": "f4a6ce0f-9f0f-4d81-9946-41c0597a752d",
   "metadata": {},
   "outputs": [],
   "source": [
    "The different modes of opening a file in Python are:\n",
    "\n",
    "1-\"r\": Read Mode - This is the default mode for opening a file.\n",
    "It allows you to read the contents of the file but does not allow you to modify it.\n",
    "If the file does not exist, it will raise a FileNotFoundError.\n",
    "2-\"w\": Write Mode - This mode allows you to write data to the file. \n",
    "If the file does not exist, it will create a new file. \n",
    "If the file already exists, it will overwrite the contents of the file with the new data.\n",
    "3-\"a\": Append Mode - This mode allows you to add data to the end of the file.\n",
    "If the file does not exist, it will create a new file. If the file already exists, \n",
    "it will add the data to the end of the file.\n",
    "4-\"x\": Exclusive Creation Mode - This mode allows you to create a new file,\n",
    "but if the file already exists, it will raise a FileExistsError.\n",
    "5-\"b\": Binary Mode - This mode is used to open binary files such as images or audio files.\n",
    "It should be used along with other modes, such as \"r\" or \"w\".\n",
    "6-\"t\": Text Mode - This is the default mode for opening a file in text format.\n",
    "It should be used along with other modes, such as \"r\" or \"w\"."
   ]
  },
  {
   "cell_type": "code",
   "execution_count": null,
   "id": "400d0b8b-bc06-486f-8019-2a637d04e1d7",
   "metadata": {},
   "outputs": [],
   "source": [
    "#an example of how to open a file in read mode\n",
    "file = open(\"example.txt\", \"r\")\n"
   ]
  },
  {
   "cell_type": "code",
   "execution_count": null,
   "id": "5477ddda-850f-4808-8cd1-b5ed0564019e",
   "metadata": {},
   "outputs": [],
   "source": [
    "#an example of how to open a file in write mode:\n",
    "file = open(\"example.txt\", \"w\")\n"
   ]
  },
  {
   "cell_type": "code",
   "execution_count": null,
   "id": "df8d315a-18bb-4783-87f0-2eb116b08eba",
   "metadata": {},
   "outputs": [],
   "source": [
    "#an example of how to open a file in append mode:\n",
    "file = open(\"example.txt\", \"a\")\n"
   ]
  },
  {
   "cell_type": "code",
   "execution_count": null,
   "id": "381078bb-8761-47ed-90a9-34c23d02af86",
   "metadata": {},
   "outputs": [],
   "source": [
    " #example of how to open a file in exclusive creation mode:\n",
    "    file = open(\"example.txt\", \"x\")\n"
   ]
  },
  {
   "cell_type": "code",
   "execution_count": null,
   "id": "a5f338d6-be5b-4fdf-9d1a-c3e8226a4f1d",
   "metadata": {},
   "outputs": [],
   "source": [
    "#example of how to open a binary file in read mode:\n",
    "file = open(\"example.jpg\", \"rb\")\n"
   ]
  },
  {
   "cell_type": "code",
   "execution_count": null,
   "id": "cfe3b754-effb-4604-9534-7bfab03583be",
   "metadata": {},
   "outputs": [],
   "source": [
    "#example of how to open a text file in write mode:\n",
    "file = open(\"example.txt\", \"wt\")\n"
   ]
  },
  {
   "cell_type": "code",
   "execution_count": null,
   "id": "0adf62a3-196b-4aaa-8990-bb198e5db628",
   "metadata": {},
   "outputs": [],
   "source": [
    "Q2. Why close() function is used? Why is it important to close a file?"
   ]
  },
  {
   "cell_type": "code",
   "execution_count": null,
   "id": "d1538a0e-90d1-419b-b38f-62a3d667d44d",
   "metadata": {},
   "outputs": [],
   "source": [
    "The close() function in Python is used to close a file object.\n",
    "It is important to close a file after it has been opened because it frees up \n",
    "system resources that were allocated when the file was opened.\n",
    "\n",
    "When a file is opened in Python, the operating system assigns certain resources\n",
    ", such as memory and file descriptors, to the file. These resources are limited, \n",
    "so if too many files are opened and not closed, it can cause the system to run out of resources and potentially crash.\n",
    "\n",
    "By using the close() function to close a file, \n",
    "the resources allocated to that file are released back to the system,\n",
    "making them available for other processes to use. It also ensures that \n",
    "any changes made to the file are saved before the program terminates,\n",
    "as data is typically buffered in memory until the file is closed.\n",
    "\n",
    "Not closing a file can also lead to issues with data integrity and security. \n",
    "If a file is not properly closed, data may be lost or corrupted, and it may also be left open for other processes to access,\n",
    "potentially compromising the security of the data.\n",
    "\n",
    "Therefore,\n",
    "it is important to always close files after they have been opened, using the close() function or the with statement,\n",
    "which automatically closes the file when the block of code is exited.\n"
   ]
  },
  {
   "cell_type": "code",
   "execution_count": null,
   "id": "1ea4ed58-e9d2-4afc-b1e6-9288989fd491",
   "metadata": {},
   "outputs": [],
   "source": [
    "Q3. Write a python program to create a text file. Write ‘I want to become a Data Scientist’ in that file. Then\n",
    "close the file. Open this file and read the content of the file."
   ]
  },
  {
   "cell_type": "code",
   "execution_count": 1,
   "id": "b80230f4-c11b-4a48-9881-9d9264a85cf5",
   "metadata": {},
   "outputs": [
    {
     "name": "stdout",
     "output_type": "stream",
     "text": [
      "I want to become a Data Scientist\n"
     ]
    }
   ],
   "source": [
    "\n",
    "file = open(\"data_scientist.txt\", \"w\")\n",
    "\n",
    "file.write(\"I want to become a Data Scientist\")\n",
    "\n",
    "file.close()\n",
    "\n",
    "\n",
    "file = open(\"data_scientist.txt\", \"r\")\n",
    "\n",
    "\n",
    "content = file.read()\n",
    "print(content)\n",
    "\n",
    "\n",
    "file.close()\n"
   ]
  },
  {
   "cell_type": "code",
   "execution_count": null,
   "id": "9d4fd283-9d5f-48ab-b4af-94c83b8642ae",
   "metadata": {},
   "outputs": [],
   "source": [
    "Q4. Explain the following with python code: read(), readline() and readlines()."
   ]
  },
  {
   "cell_type": "code",
   "execution_count": null,
   "id": "99eb05bc-d1f7-4986-a928-a91b4ef557a6",
   "metadata": {},
   "outputs": [],
   "source": [
    "read(), readline(), and readlines() are methods used to read data from a file.\n",
    "Here is a brief explanation of each of these methods and how they can be used with Python code:"
   ]
  },
  {
   "cell_type": "code",
   "execution_count": null,
   "id": "aff62bc3-08f0-4c36-983e-c648141e1d46",
   "metadata": {},
   "outputs": [],
   "source": [
    "1  -   read() - This method reads the entire content of the file as a string and returns it. \n",
    "It takes an optional argument, which specifies the number of characters to be read.\n",
    "Here's an example code snippet that demonstrates the use of read() method:"
   ]
  },
  {
   "cell_type": "code",
   "execution_count": null,
   "id": "92fb9041-93ce-4abe-9ba7-496bc0957db9",
   "metadata": {},
   "outputs": [],
   "source": [
    "\n",
    "file = open(\"example.txt\", \"r\")\n",
    "\n",
    "content = file.read()\n",
    "\n",
    "print(content)\n",
    "\n",
    "file.close()\n"
   ]
  },
  {
   "cell_type": "code",
   "execution_count": null,
   "id": "2f16a545-f5c9-44d4-9338-3a792d8c3786",
   "metadata": {},
   "outputs": [],
   "source": [
    "2 -  readline() - This method reads a single line from the file and returns it as a string. \n",
    "It moves the file pointer to the next line after the line is read.\n",
    "Here's an example code snippet that demonstrates the use of readline() method:"
   ]
  },
  {
   "cell_type": "code",
   "execution_count": null,
   "id": "e27d8c97-78e7-41f8-a355-10bf7e5cb926",
   "metadata": {},
   "outputs": [],
   "source": [
    "\n",
    "file = open(\"example.txt\", \"r\")\n",
    "\n",
    "\n",
    "line = file.readline\n",
    "print(line)\n",
    "\n",
    "file.close()\n"
   ]
  },
  {
   "cell_type": "code",
   "execution_count": null,
   "id": "9257a7ce-8402-424b-b292-965e931377f2",
   "metadata": {},
   "outputs": [],
   "source": [
    "3 - readlines() - This method reads all the lines of the file and returns them as a list of strings.\n",
    "Each element of the list represents a line of the file.\n",
    "Here's an example code snippet that demonstrates the use of readlines() method:"
   ]
  },
  {
   "cell_type": "code",
   "execution_count": null,
   "id": "1c979794-c846-44db-9222-8d4dd0ea7710",
   "metadata": {},
   "outputs": [],
   "source": [
    "\n",
    "file = open(\"example.txt\", \"r\")\n",
    "\n",
    "\n",
    "lines = file.readlines()\n",
    "\n",
    "\n",
    "for line in lines\n",
    "    print(line)\n",
    "\n",
    "file.close()\n"
   ]
  },
  {
   "cell_type": "code",
   "execution_count": null,
   "id": "2e83aae8-d37c-4670-8852-57afc561bb01",
   "metadata": {},
   "outputs": [],
   "source": [
    "Q5. Explain why with statement is used with open(). What is the advantage of using with statement and\n",
    "open() together?"
   ]
  },
  {
   "cell_type": "code",
   "execution_count": null,
   "id": "3e4d0bd9-c6ea-49f4-bb56-eddb0f81e176",
   "metadata": {},
   "outputs": [],
   "source": [
    "In Python, the with statement is used with the open() function to manage the opening and closing of files automatically.\n",
    "\n",
    "The open() function is used to open a file and returns a file object. When you're done with the file, \n",
    "you need to close it using the close() method.\n",
    "If you forget to close the file, it may result in data loss or file corruption.\n",
    "\n",
    "The with statement provides a way to ensure that a file is\n",
    "closed when the block inside the with statement is exited. This makes the code cleaner and more readable.\n",
    "\n",
    "Here's an example of how to use the with statement with open():"
   ]
  },
  {
   "cell_type": "code",
   "execution_count": null,
   "id": "885413f7-a96d-4ac9-b2b9-84f9a2226fba",
   "metadata": {},
   "outputs": [],
   "source": [
    "with open('file.txt', 'r') as f:\n",
    "    data = f.read()\n"
   ]
  },
  {
   "cell_type": "code",
   "execution_count": null,
   "id": "34629457-fb0e-4d4a-b47b-4d08c83499b3",
   "metadata": {},
   "outputs": [],
   "source": []
  }
 ],
 "metadata": {
  "kernelspec": {
   "display_name": "Python 3 (ipykernel)",
   "language": "python",
   "name": "python3"
  },
  "language_info": {
   "codemirror_mode": {
    "name": "ipython",
    "version": 3
   },
   "file_extension": ".py",
   "mimetype": "text/x-python",
   "name": "python",
   "nbconvert_exporter": "python",
   "pygments_lexer": "ipython3",
   "version": "3.10.8"
  }
 },
 "nbformat": 4,
 "nbformat_minor": 5
}
